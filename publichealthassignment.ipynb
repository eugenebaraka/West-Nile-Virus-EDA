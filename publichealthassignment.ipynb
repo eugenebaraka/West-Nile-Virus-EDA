{
 "cells": [
  {
   "cell_type": "code",
   "execution_count": 1,
   "metadata": {},
   "outputs": [],
   "source": [
    "import numpy as np\n",
    "import pandas as pd\n",
    "import matplotlib.pyplot as plt\n",
    "import seaborn as sns"
   ]
  },
  {
   "cell_type": "code",
   "execution_count": 3,
   "metadata": {},
   "outputs": [],
   "source": [
    "df = pd.read_csv(r\"C:\\Users\\ebaraka\\Downloads\\mosquito_data.csv\")"
   ]
  },
  {
   "cell_type": "code",
   "execution_count": 4,
   "metadata": {},
   "outputs": [
    {
     "name": "stdout",
     "output_type": "stream",
     "text": [
      "<class 'pandas.core.frame.DataFrame'>\n",
      "RangeIndex: 18495 entries, 0 to 18494\n",
      "Data columns (total 13 columns):\n",
      " #   Column           Non-Null Count  Dtype  \n",
      "---  ------           --------------  -----  \n",
      " 0   Year             18495 non-null  int64  \n",
      " 1   Week             18495 non-null  int64  \n",
      " 2   Address Block    18495 non-null  object \n",
      " 3   Block            18495 non-null  int64  \n",
      " 4   Trap             18495 non-null  object \n",
      " 5   Trap type        18495 non-null  object \n",
      " 6   Date             18495 non-null  object \n",
      " 7   Mosquito number  18495 non-null  int64  \n",
      " 8   Mosquito ID      18495 non-null  object \n",
      " 9   WNV Present      18495 non-null  object \n",
      " 10  Species          18495 non-null  object \n",
      " 11  Lat              15571 non-null  float64\n",
      " 12  Lon              15571 non-null  float64\n",
      "dtypes: float64(2), int64(4), object(7)\n",
      "memory usage: 1.8+ MB\n"
     ]
    }
   ],
   "source": [
    "df.info()"
   ]
  },
  {
   "cell_type": "markdown",
   "metadata": {},
   "source": [
    "The date variable is in the wrong format, so we will convert it to datetime format."
   ]
  },
  {
   "cell_type": "code",
   "execution_count": null,
   "metadata": {},
   "outputs": [],
   "source": [
    "we could also use \n",
    "\n",
    "df.select_dtypes('object')"
   ]
  },
  {
   "cell_type": "code",
   "execution_count": 5,
   "metadata": {},
   "outputs": [],
   "source": [
    "df['Date'] = pd.to_datetime(df['Date'])"
   ]
  },
  {
   "cell_type": "code",
   "execution_count": 6,
   "metadata": {},
   "outputs": [
    {
     "name": "stdout",
     "output_type": "stream",
     "text": [
      "<class 'pandas.core.frame.DataFrame'>\n",
      "RangeIndex: 18495 entries, 0 to 18494\n",
      "Data columns (total 13 columns):\n",
      " #   Column           Non-Null Count  Dtype         \n",
      "---  ------           --------------  -----         \n",
      " 0   Year             18495 non-null  int64         \n",
      " 1   Week             18495 non-null  int64         \n",
      " 2   Address Block    18495 non-null  object        \n",
      " 3   Block            18495 non-null  int64         \n",
      " 4   Trap             18495 non-null  object        \n",
      " 5   Trap type        18495 non-null  object        \n",
      " 6   Date             18495 non-null  datetime64[ns]\n",
      " 7   Mosquito number  18495 non-null  int64         \n",
      " 8   Mosquito ID      18495 non-null  object        \n",
      " 9   WNV Present      18495 non-null  object        \n",
      " 10  Species          18495 non-null  object        \n",
      " 11  Lat              15571 non-null  float64       \n",
      " 12  Lon              15571 non-null  float64       \n",
      "dtypes: datetime64[ns](1), float64(2), int64(4), object(6)\n",
      "memory usage: 1.8+ MB\n"
     ]
    }
   ],
   "source": [
    "df.info()"
   ]
  },
  {
   "cell_type": "code",
   "execution_count": 7,
   "metadata": {},
   "outputs": [],
   "source": [
    "numeric = df.select_dtypes(exclude=['object']).columns"
   ]
  },
  {
   "cell_type": "code",
   "execution_count": 9,
   "metadata": {},
   "outputs": [
    {
     "data": {
      "text/html": [
       "<div>\n",
       "<style scoped>\n",
       "    .dataframe tbody tr th:only-of-type {\n",
       "        vertical-align: middle;\n",
       "    }\n",
       "\n",
       "    .dataframe tbody tr th {\n",
       "        vertical-align: top;\n",
       "    }\n",
       "\n",
       "    .dataframe thead th {\n",
       "        text-align: right;\n",
       "    }\n",
       "</style>\n",
       "<table border=\"1\" class=\"dataframe\">\n",
       "  <thead>\n",
       "    <tr style=\"text-align: right;\">\n",
       "      <th></th>\n",
       "      <th>Year</th>\n",
       "      <th>Week</th>\n",
       "      <th>Block</th>\n",
       "      <th>Mosquito number</th>\n",
       "      <th>Lat</th>\n",
       "      <th>Lon</th>\n",
       "    </tr>\n",
       "  </thead>\n",
       "  <tbody>\n",
       "    <tr>\n",
       "      <th>count</th>\n",
       "      <td>18495.000000</td>\n",
       "      <td>18495.000000</td>\n",
       "      <td>18495.000000</td>\n",
       "      <td>18495.000000</td>\n",
       "      <td>15571.000000</td>\n",
       "      <td>15571.000000</td>\n",
       "    </tr>\n",
       "    <tr>\n",
       "      <th>mean</th>\n",
       "      <td>2012.905812</td>\n",
       "      <td>31.004001</td>\n",
       "      <td>54.314788</td>\n",
       "      <td>10.879913</td>\n",
       "      <td>41.839963</td>\n",
       "      <td>-87.691642</td>\n",
       "    </tr>\n",
       "    <tr>\n",
       "      <th>std</th>\n",
       "      <td>3.725857</td>\n",
       "      <td>4.332020</td>\n",
       "      <td>36.712796</td>\n",
       "      <td>13.475066</td>\n",
       "      <td>0.111374</td>\n",
       "      <td>0.076545</td>\n",
       "    </tr>\n",
       "    <tr>\n",
       "      <th>min</th>\n",
       "      <td>2007.000000</td>\n",
       "      <td>20.000000</td>\n",
       "      <td>1.000000</td>\n",
       "      <td>1.000000</td>\n",
       "      <td>41.644720</td>\n",
       "      <td>-87.854473</td>\n",
       "    </tr>\n",
       "    <tr>\n",
       "      <th>25%</th>\n",
       "      <td>2010.000000</td>\n",
       "      <td>28.000000</td>\n",
       "      <td>22.000000</td>\n",
       "      <td>2.000000</td>\n",
       "      <td>41.742670</td>\n",
       "      <td>-87.747459</td>\n",
       "    </tr>\n",
       "    <tr>\n",
       "      <th>50%</th>\n",
       "      <td>2013.000000</td>\n",
       "      <td>31.000000</td>\n",
       "      <td>51.000000</td>\n",
       "      <td>5.000000</td>\n",
       "      <td>41.845715</td>\n",
       "      <td>-87.691698</td>\n",
       "    </tr>\n",
       "    <tr>\n",
       "      <th>75%</th>\n",
       "      <td>2016.000000</td>\n",
       "      <td>34.000000</td>\n",
       "      <td>89.000000</td>\n",
       "      <td>14.000000</td>\n",
       "      <td>41.945961</td>\n",
       "      <td>-87.637873</td>\n",
       "    </tr>\n",
       "    <tr>\n",
       "      <th>max</th>\n",
       "      <td>2019.000000</td>\n",
       "      <td>40.000000</td>\n",
       "      <td>132.000000</td>\n",
       "      <td>50.000000</td>\n",
       "      <td>42.017801</td>\n",
       "      <td>-87.531051</td>\n",
       "    </tr>\n",
       "  </tbody>\n",
       "</table>\n",
       "</div>"
      ],
      "text/plain": [
       "               Year          Week         Block  Mosquito number  \\\n",
       "count  18495.000000  18495.000000  18495.000000     18495.000000   \n",
       "mean    2012.905812     31.004001     54.314788        10.879913   \n",
       "std        3.725857      4.332020     36.712796        13.475066   \n",
       "min     2007.000000     20.000000      1.000000         1.000000   \n",
       "25%     2010.000000     28.000000     22.000000         2.000000   \n",
       "50%     2013.000000     31.000000     51.000000         5.000000   \n",
       "75%     2016.000000     34.000000     89.000000        14.000000   \n",
       "max     2019.000000     40.000000    132.000000        50.000000   \n",
       "\n",
       "                Lat           Lon  \n",
       "count  15571.000000  15571.000000  \n",
       "mean      41.839963    -87.691642  \n",
       "std        0.111374      0.076545  \n",
       "min       41.644720    -87.854473  \n",
       "25%       41.742670    -87.747459  \n",
       "50%       41.845715    -87.691698  \n",
       "75%       41.945961    -87.637873  \n",
       "max       42.017801    -87.531051  "
      ]
     },
     "execution_count": 9,
     "metadata": {},
     "output_type": "execute_result"
    }
   ],
   "source": [
    "df[numeric].describe()"
   ]
  },
  {
   "cell_type": "code",
   "execution_count": null,
   "metadata": {},
   "outputs": [],
   "source": [
    "key points: \n",
    "\n",
    "year : 2007 to 2019\n",
    "week = weeks 20 to 40\n",
    "mosquito number = 1 to 50\n",
    "mean and median similar in the year, week, lat and long\n",
    "mean bigger than median in mosquito number right skewed\n",
    "\n"
   ]
  },
  {
   "cell_type": "code",
   "execution_count": null,
   "metadata": {},
   "outputs": [],
   "source": [
    "visualizing the distribution of the data\n",
    "subplot(3, 3)\n",
    "counter = 1\n",
    "for col in list(numeric):\n",
    "    plt.subplot(3, 3, counter)\n",
    "    sns.histplot(df[col])\n",
    "    counter += 1"
   ]
  },
  {
   "cell_type": "code",
   "execution_count": null,
   "metadata": {},
   "outputs": [],
   "source": [
    "unique values for each categorical variable\n",
    "\n",
    "for col in list(df.select_dtypes('object').columns):\n",
    "    print(col)\n",
    "    print(df[col].unique())\n",
    "    print('\\n')\n",
    "\n",
    "for cat in list(categorical):\n",
    "    print(f)"
   ]
  },
  {
   "cell_type": "code",
   "execution_count": null,
   "metadata": {},
   "outputs": [],
   "source": [
    "vizualize distribution of categorical variables cfr numeric\n",
    "\n"
   ]
  },
  {
   "cell_type": "code",
   "execution_count": null,
   "metadata": {},
   "outputs": [],
   "source": [
    "duplicates\n",
    "\n",
    "df.groupby(['mosquito Id, species'])['Species'].count()"
   ]
  },
  {
   "cell_type": "code",
   "execution_count": null,
   "metadata": {},
   "outputs": [],
   "source": [
    "df[date].dtd.time.unique()\n",
    "\n",
    "we drop the date column since we have year and week"
   ]
  },
  {
   "cell_type": "code",
   "execution_count": null,
   "metadata": {},
   "outputs": [],
   "source": [
    "lamda functions are used to filter the data\n",
    "\n",
    "np..where(df.apply(lambda x: str(x.Block)))"
   ]
  },
  {
   "cell_type": "code",
   "execution_count": null,
   "metadata": {},
   "outputs": [],
   "source": []
  }
 ],
 "metadata": {
  "kernelspec": {
   "display_name": "Python 3.8.5 ('base')",
   "language": "python",
   "name": "python3"
  },
  "language_info": {
   "codemirror_mode": {
    "name": "ipython",
    "version": 3
   },
   "file_extension": ".py",
   "mimetype": "text/x-python",
   "name": "python",
   "nbconvert_exporter": "python",
   "pygments_lexer": "ipython3",
   "version": "3.8.5"
  },
  "orig_nbformat": 4,
  "vscode": {
   "interpreter": {
    "hash": "ad2bdc8ecc057115af97d19610ffacc2b4e99fae6737bb82f5d7fb13d2f2c186"
   }
  }
 },
 "nbformat": 4,
 "nbformat_minor": 2
}
