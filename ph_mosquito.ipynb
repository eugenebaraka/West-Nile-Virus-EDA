{
 "cells": [
  {
   "cell_type": "markdown",
   "metadata": {},
   "source": [
    "Exploratory Data Analysis, EDA in short, is the first step taken during data analysis and modeling to better understand data and the relationship between the variables. The process also helps us clean the data; for example, most machine learning algorith cannot handle missing values, so we need to deal with them in the EDA, also we need to make sure all variables are in the right formats. In this notebook I perform EDA on the Western Nile Virus (WNV) dataset found on Kaggle (insert link). You can read more about the WNV here (insert link)"
   ]
  },
  {
   "cell_type": "code",
   "execution_count": 6,
   "metadata": {},
   "outputs": [],
   "source": [
    "# Importing necessary libraries\n",
    "import pandas as pd\n",
    "import os\n",
    "import numpy as np\n",
    "import matplotlib.pyplot as plt\n",
    "import seaborn as sns"
   ]
  },
  {
   "cell_type": "code",
   "execution_count": 9,
   "metadata": {},
   "outputs": [
    {
     "data": {
      "text/html": [
       "<div>\n",
       "<style scoped>\n",
       "    .dataframe tbody tr th:only-of-type {\n",
       "        vertical-align: middle;\n",
       "    }\n",
       "\n",
       "    .dataframe tbody tr th {\n",
       "        vertical-align: top;\n",
       "    }\n",
       "\n",
       "    .dataframe thead th {\n",
       "        text-align: right;\n",
       "    }\n",
       "</style>\n",
       "<table border=\"1\" class=\"dataframe\">\n",
       "  <thead>\n",
       "    <tr style=\"text-align: right;\">\n",
       "      <th></th>\n",
       "      <th>Year</th>\n",
       "      <th>Week</th>\n",
       "      <th>Address Block</th>\n",
       "      <th>Block</th>\n",
       "      <th>Trap</th>\n",
       "      <th>Trap type</th>\n",
       "      <th>Date</th>\n",
       "      <th>Mosquito number</th>\n",
       "      <th>Mosquito ID</th>\n",
       "      <th>WNV Present</th>\n",
       "      <th>Species</th>\n",
       "      <th>Lat</th>\n",
       "      <th>Lon</th>\n",
       "    </tr>\n",
       "  </thead>\n",
       "  <tbody>\n",
       "    <tr>\n",
       "      <th>0</th>\n",
       "      <td>2019</td>\n",
       "      <td>39</td>\n",
       "      <td>100XX W OHARE AIRPORT</td>\n",
       "      <td>100</td>\n",
       "      <td>T910</td>\n",
       "      <td>GRAVID</td>\n",
       "      <td>2019-09-26 00:09:00</td>\n",
       "      <td>2</td>\n",
       "      <td>Res</td>\n",
       "      <td>negative</td>\n",
       "      <td>CULEX RESTUANS</td>\n",
       "      <td>NaN</td>\n",
       "      <td>NaN</td>\n",
       "    </tr>\n",
       "    <tr>\n",
       "      <th>1</th>\n",
       "      <td>2019</td>\n",
       "      <td>39</td>\n",
       "      <td>52XX S KOLMAR AVE</td>\n",
       "      <td>52</td>\n",
       "      <td>T114</td>\n",
       "      <td>GRAVID</td>\n",
       "      <td>2019-09-26 00:09:00</td>\n",
       "      <td>1</td>\n",
       "      <td>Res</td>\n",
       "      <td>negative</td>\n",
       "      <td>CULEX RESTUANS</td>\n",
       "      <td>41.798211</td>\n",
       "      <td>-87.736925</td>\n",
       "    </tr>\n",
       "    <tr>\n",
       "      <th>2</th>\n",
       "      <td>2019</td>\n",
       "      <td>39</td>\n",
       "      <td>58XX N WESTERN AVE</td>\n",
       "      <td>58</td>\n",
       "      <td>T028</td>\n",
       "      <td>GRAVID</td>\n",
       "      <td>2019-09-26 00:09:00</td>\n",
       "      <td>2</td>\n",
       "      <td>Res</td>\n",
       "      <td>negative</td>\n",
       "      <td>CULEX RESTUANS</td>\n",
       "      <td>41.987245</td>\n",
       "      <td>-87.689417</td>\n",
       "    </tr>\n",
       "    <tr>\n",
       "      <th>3</th>\n",
       "      <td>2019</td>\n",
       "      <td>39</td>\n",
       "      <td>39XX N SPRINGFIELD AVE</td>\n",
       "      <td>39</td>\n",
       "      <td>T228</td>\n",
       "      <td>GRAVID</td>\n",
       "      <td>2019-09-26 00:09:00</td>\n",
       "      <td>1</td>\n",
       "      <td>Res</td>\n",
       "      <td>negative</td>\n",
       "      <td>CULEX RESTUANS</td>\n",
       "      <td>41.953664</td>\n",
       "      <td>-87.724987</td>\n",
       "    </tr>\n",
       "    <tr>\n",
       "      <th>4</th>\n",
       "      <td>2019</td>\n",
       "      <td>39</td>\n",
       "      <td>131XX S BRANDON AVE</td>\n",
       "      <td>131</td>\n",
       "      <td>T209</td>\n",
       "      <td>GRAVID</td>\n",
       "      <td>2019-09-26 00:09:00</td>\n",
       "      <td>9</td>\n",
       "      <td>Res</td>\n",
       "      <td>negative</td>\n",
       "      <td>CULEX RESTUANS</td>\n",
       "      <td>41.657069</td>\n",
       "      <td>-87.546049</td>\n",
       "    </tr>\n",
       "    <tr>\n",
       "      <th>5</th>\n",
       "      <td>2019</td>\n",
       "      <td>39</td>\n",
       "      <td>21XX N CANNON DR</td>\n",
       "      <td>21</td>\n",
       "      <td>T054C</td>\n",
       "      <td>GRAVID</td>\n",
       "      <td>2019-09-26 00:09:00</td>\n",
       "      <td>2</td>\n",
       "      <td>Res</td>\n",
       "      <td>negative</td>\n",
       "      <td>CULEX RESTUANS</td>\n",
       "      <td>41.921777</td>\n",
       "      <td>-87.632140</td>\n",
       "    </tr>\n",
       "    <tr>\n",
       "      <th>6</th>\n",
       "      <td>2019</td>\n",
       "      <td>39</td>\n",
       "      <td>11XX W ROOSEVELT RD</td>\n",
       "      <td>11</td>\n",
       "      <td>T048</td>\n",
       "      <td>GRAVID</td>\n",
       "      <td>2019-09-26 00:09:00</td>\n",
       "      <td>3</td>\n",
       "      <td>Res</td>\n",
       "      <td>negative</td>\n",
       "      <td>CULEX RESTUANS</td>\n",
       "      <td>41.866915</td>\n",
       "      <td>-87.654919</td>\n",
       "    </tr>\n",
       "  </tbody>\n",
       "</table>\n",
       "</div>"
      ],
      "text/plain": [
       "   Year  Week           Address Block  Block   Trap Trap type  \\\n",
       "0  2019    39   100XX W OHARE AIRPORT    100   T910    GRAVID   \n",
       "1  2019    39       52XX S KOLMAR AVE     52   T114    GRAVID   \n",
       "2  2019    39      58XX N WESTERN AVE     58   T028    GRAVID   \n",
       "3  2019    39  39XX N SPRINGFIELD AVE     39   T228    GRAVID   \n",
       "4  2019    39     131XX S BRANDON AVE    131   T209    GRAVID   \n",
       "5  2019    39        21XX N CANNON DR     21  T054C    GRAVID   \n",
       "6  2019    39     11XX W ROOSEVELT RD     11   T048    GRAVID   \n",
       "\n",
       "                  Date  Mosquito number Mosquito ID WNV Present  \\\n",
       "0  2019-09-26 00:09:00                2         Res    negative   \n",
       "1  2019-09-26 00:09:00                1         Res    negative   \n",
       "2  2019-09-26 00:09:00                2         Res    negative   \n",
       "3  2019-09-26 00:09:00                1         Res    negative   \n",
       "4  2019-09-26 00:09:00                9         Res    negative   \n",
       "5  2019-09-26 00:09:00                2         Res    negative   \n",
       "6  2019-09-26 00:09:00                3         Res    negative   \n",
       "\n",
       "          Species        Lat        Lon  \n",
       "0  CULEX RESTUANS        NaN        NaN  \n",
       "1  CULEX RESTUANS  41.798211 -87.736925  \n",
       "2  CULEX RESTUANS  41.987245 -87.689417  \n",
       "3  CULEX RESTUANS  41.953664 -87.724987  \n",
       "4  CULEX RESTUANS  41.657069 -87.546049  \n",
       "5  CULEX RESTUANS  41.921777 -87.632140  \n",
       "6  CULEX RESTUANS  41.866915 -87.654919  "
      ]
     },
     "execution_count": 9,
     "metadata": {},
     "output_type": "execute_result"
    }
   ],
   "source": [
    "# Load the data\n",
    "datapath = os.path.join(\"data\", 'mosquito_data.csv')\n",
    "df = pd.read_csv(datapath)\n",
    "df.head(7)"
   ]
  },
  {
   "cell_type": "code",
   "execution_count": 11,
   "metadata": {},
   "outputs": [
    {
     "name": "stdout",
     "output_type": "stream",
     "text": [
      "The data has 18495 rows and 13 columns.\n",
      "<class 'pandas.core.frame.DataFrame'>\n",
      "RangeIndex: 18495 entries, 0 to 18494\n",
      "Data columns (total 13 columns):\n",
      " #   Column           Non-Null Count  Dtype  \n",
      "---  ------           --------------  -----  \n",
      " 0   Year             18495 non-null  int64  \n",
      " 1   Week             18495 non-null  int64  \n",
      " 2   Address Block    18495 non-null  object \n",
      " 3   Block            18495 non-null  int64  \n",
      " 4   Trap             18495 non-null  object \n",
      " 5   Trap type        18495 non-null  object \n",
      " 6   Date             18495 non-null  object \n",
      " 7   Mosquito number  18495 non-null  int64  \n",
      " 8   Mosquito ID      18495 non-null  object \n",
      " 9   WNV Present      18495 non-null  object \n",
      " 10  Species          18495 non-null  object \n",
      " 11  Lat              15571 non-null  float64\n",
      " 12  Lon              15571 non-null  float64\n",
      "dtypes: float64(2), int64(4), object(7)\n",
      "memory usage: 1.8+ MB\n"
     ]
    }
   ],
   "source": [
    "# Inspecting the dataframe\n",
    "print(f\"The data has {df.shape[0]} rows and {df.shape[1]} columns.\")\n",
    "\n",
    "df.info()\n",
    "\n"
   ]
  },
  {
   "cell_type": "markdown",
   "metadata": {},
   "source": [
    "It looks like all variables are in the right format, except Date which should be a datetime object, so we will need to convert that. Also, the only variables with missing values are Latitude and Longitude, which can filled in by a quick google search!"
   ]
  },
  {
   "cell_type": "code",
   "execution_count": 24,
   "metadata": {},
   "outputs": [
    {
     "data": {
      "text/plain": [
       "array(['100XX W OHARE AIRPORT', '4XX W 127TH', '100XX W OHARE',\n",
       "       '81XX S ASHLAND', '79XX S CHICAGO', '98XX S AVENUE G',\n",
       "       '65XX N OAK PARK AVE', '115XX S AVENUE L', '30XX S HOYNE',\n",
       "       '43XX N ASHLAND'], dtype=object)"
      ]
     },
     "execution_count": 24,
     "metadata": {},
     "output_type": "execute_result"
    }
   ],
   "source": [
    "df['Date'] = pd.to_datetime(df['Date']) # Converting the date to datetime format\n",
    "\n",
    "df[df['Lat'].isna() & df['Lon'].isna()]['Address Block'].unique() # Checking addresses with missing lat and lon\n"
   ]
  },
  {
   "cell_type": "code",
   "execution_count": 25,
   "metadata": {},
   "outputs": [],
   "source": [
    "# Filling in the missing lat and lon values according to the address\n",
    "\n",
    "df.loc[df['Address Block'] == \"100XX W OHARE AIRPORT\", ['Lat', 'Lon']] = [41.982151, -87.897568]\n",
    "df.loc[df['Address Block'] == \"4XX W 127TH\", ['Lat', 'Lon']] = [38.897469, -94.595230]\n",
    "df.loc[df['Address Block'] == \"100XX W OHARE\", ['Lat', 'Lon']] = [40.177132, -85.477737]\n",
    "df.loc[df['Address Block'] == \"81XX S ASHLAND\", ['Lat', 'Lon']] = [33.413078, -111.816238]\n",
    "df.loc[df['Address Block'] == \"79XX S CHICAGO\", ['Lat', 'Lon']] = [42.094158, -79.266510]\n",
    "df.loc[df['Address Block'] == \"98XX S AVENUE G\", ['Lat', 'Lon']] = [41.709293, -87.5315843]\n",
    "df.loc[df['Address Block'] == \"65XX N OAK PARK AVE\", ['Lat', 'Lon']] = [42.015568, -87.794115]\n",
    "df.loc[df['Address Block'] == \"115XX S AVENUE L\", ['Lat', 'Lon']] = [41.652009, -87.536241]\n",
    "df.loc[df['Address Block'] == \"30XX S HOYNE\", ['Lat', 'Lon']] = [41.854498, -87.676803]\n",
    "df.loc[df['Address Block'] == \"43XX N ASHLAND\", ['Lat', 'Lon']] = [40.861585, -82.321826]\n",
    "# Note that this wouldn't be ideal if we had more missing addresses with missing Lat and Lon. This worked because we only only 10 were missing"
   ]
  },
  {
   "cell_type": "markdown",
   "metadata": {},
   "source": [
    "Let's take a quick look on the data to see if everything is fixed now!"
   ]
  },
  {
   "cell_type": "code",
   "execution_count": 26,
   "metadata": {},
   "outputs": [
    {
     "name": "stdout",
     "output_type": "stream",
     "text": [
      "<class 'pandas.core.frame.DataFrame'>\n",
      "RangeIndex: 18495 entries, 0 to 18494\n",
      "Data columns (total 13 columns):\n",
      " #   Column           Non-Null Count  Dtype         \n",
      "---  ------           --------------  -----         \n",
      " 0   Year             18495 non-null  int64         \n",
      " 1   Week             18495 non-null  int64         \n",
      " 2   Address Block    18495 non-null  object        \n",
      " 3   Block            18495 non-null  int64         \n",
      " 4   Trap             18495 non-null  object        \n",
      " 5   Trap type        18495 non-null  object        \n",
      " 6   Date             18495 non-null  datetime64[ns]\n",
      " 7   Mosquito number  18495 non-null  int64         \n",
      " 8   Mosquito ID      18495 non-null  object        \n",
      " 9   WNV Present      18495 non-null  object        \n",
      " 10  Species          18495 non-null  object        \n",
      " 11  Lat              18495 non-null  float64       \n",
      " 12  Lon              18495 non-null  float64       \n",
      "dtypes: datetime64[ns](1), float64(2), int64(4), object(6)\n",
      "memory usage: 1.8+ MB\n"
     ]
    }
   ],
   "source": [
    "df.info()"
   ]
  },
  {
   "cell_type": "markdown",
   "metadata": {},
   "source": [
    "Perfect the Date variable is now in the right format and looks like all the Lat and Lon are now all available. Now let's start vizualizing our data. Since the data has the actual latitude and longitude, it would be nice to visualize the distribution of the mosquitoes across the city...."
   ]
  },
  {
   "cell_type": "code",
   "execution_count": 24,
   "metadata": {},
   "outputs": [
    {
     "data": {
      "text/plain": [
       "Year                 int64\n",
       "Week                 int64\n",
       "Address Block       object\n",
       "Block                int64\n",
       "Trap                object\n",
       "Trap type           object\n",
       "Date                object\n",
       "Mosquito number      int64\n",
       "Mosquito ID         object\n",
       "WNV Present         object\n",
       "Species             object\n",
       "Lat                float64\n",
       "Lon                float64\n",
       "dtype: object"
      ]
     },
     "execution_count": 24,
     "metadata": {},
     "output_type": "execute_result"
    }
   ],
   "source": [
    "# Check the data types of the columns\n",
    "df.dtypes"
   ]
  },
  {
   "cell_type": "markdown",
   "metadata": {},
   "source": [
    "All columns have the correct data type except Date, so we should convert it to a datetime format"
   ]
  },
  {
   "cell_type": "code",
   "execution_count": 26,
   "metadata": {},
   "outputs": [
    {
     "data": {
      "text/plain": [
       "Year                        int64\n",
       "Week                        int64\n",
       "Address Block              object\n",
       "Block                       int64\n",
       "Trap                       object\n",
       "Trap type                  object\n",
       "Date               datetime64[ns]\n",
       "Mosquito number             int64\n",
       "Mosquito ID                object\n",
       "WNV Present                object\n",
       "Species                    object\n",
       "Lat                       float64\n",
       "Lon                       float64\n",
       "dtype: object"
      ]
     },
     "execution_count": 26,
     "metadata": {},
     "output_type": "execute_result"
    }
   ],
   "source": [
    "# Converting date to datetime\n",
    "df['Date'] = df['Date'].astype('datetime64[ns]')\n",
    "\n",
    "# rechecking the data types of the columns\n",
    "df.dtypes"
   ]
  },
  {
   "cell_type": "code",
   "execution_count": 32,
   "metadata": {},
   "outputs": [
    {
     "data": {
      "text/html": [
       "<div>\n",
       "<style scoped>\n",
       "    .dataframe tbody tr th:only-of-type {\n",
       "        vertical-align: middle;\n",
       "    }\n",
       "\n",
       "    .dataframe tbody tr th {\n",
       "        vertical-align: top;\n",
       "    }\n",
       "\n",
       "    .dataframe thead th {\n",
       "        text-align: right;\n",
       "    }\n",
       "</style>\n",
       "<table border=\"1\" class=\"dataframe\">\n",
       "  <thead>\n",
       "    <tr style=\"text-align: right;\">\n",
       "      <th></th>\n",
       "      <th>Year</th>\n",
       "      <th>Week</th>\n",
       "      <th>Address Block</th>\n",
       "      <th>Block</th>\n",
       "      <th>Trap</th>\n",
       "      <th>Trap type</th>\n",
       "      <th>Date</th>\n",
       "      <th>Mosquito number</th>\n",
       "      <th>Mosquito ID</th>\n",
       "      <th>WNV Present</th>\n",
       "      <th>Species</th>\n",
       "      <th>Lat</th>\n",
       "      <th>Lon</th>\n",
       "    </tr>\n",
       "  </thead>\n",
       "  <tbody>\n",
       "    <tr>\n",
       "      <th>15495</th>\n",
       "      <td>2018</td>\n",
       "      <td>34</td>\n",
       "      <td>100XX W OHARE AIRPORT</td>\n",
       "      <td>100</td>\n",
       "      <td>T912</td>\n",
       "      <td>GRAVID</td>\n",
       "      <td>2018-08-23 00:08:00</td>\n",
       "      <td>3</td>\n",
       "      <td>Pip</td>\n",
       "      <td>positive</td>\n",
       "      <td>CULEX PIPIENS</td>\n",
       "      <td>NaN</td>\n",
       "      <td>NaN</td>\n",
       "    </tr>\n",
       "    <tr>\n",
       "      <th>15504</th>\n",
       "      <td>2011</td>\n",
       "      <td>32</td>\n",
       "      <td>100XX W OHARE AIRPORT</td>\n",
       "      <td>100</td>\n",
       "      <td>T916</td>\n",
       "      <td>GRAVID</td>\n",
       "      <td>2011-08-12 00:08:00</td>\n",
       "      <td>11</td>\n",
       "      <td>Pip</td>\n",
       "      <td>positive</td>\n",
       "      <td>CULEX PIPIENS</td>\n",
       "      <td>NaN</td>\n",
       "      <td>NaN</td>\n",
       "    </tr>\n",
       "    <tr>\n",
       "      <th>15520</th>\n",
       "      <td>2010</td>\n",
       "      <td>33</td>\n",
       "      <td>100XX W OHARE</td>\n",
       "      <td>100</td>\n",
       "      <td>T903</td>\n",
       "      <td>GRAVID</td>\n",
       "      <td>2010-08-20 00:08:00</td>\n",
       "      <td>27</td>\n",
       "      <td>Res</td>\n",
       "      <td>positive</td>\n",
       "      <td>CULEX RESTUANS</td>\n",
       "      <td>NaN</td>\n",
       "      <td>NaN</td>\n",
       "    </tr>\n",
       "    <tr>\n",
       "      <th>15523</th>\n",
       "      <td>2016</td>\n",
       "      <td>34</td>\n",
       "      <td>100XX W OHARE AIRPORT</td>\n",
       "      <td>100</td>\n",
       "      <td>T911</td>\n",
       "      <td>GRAVID</td>\n",
       "      <td>2016-08-25 00:08:00</td>\n",
       "      <td>8</td>\n",
       "      <td>Res</td>\n",
       "      <td>positive</td>\n",
       "      <td>CULEX RESTUANS</td>\n",
       "      <td>NaN</td>\n",
       "      <td>NaN</td>\n",
       "    </tr>\n",
       "    <tr>\n",
       "      <th>15528</th>\n",
       "      <td>2017</td>\n",
       "      <td>34</td>\n",
       "      <td>100XX W OHARE AIRPORT</td>\n",
       "      <td>100</td>\n",
       "      <td>T900</td>\n",
       "      <td>GRAVID</td>\n",
       "      <td>2017-08-24 00:08:00</td>\n",
       "      <td>2</td>\n",
       "      <td>Res</td>\n",
       "      <td>positive</td>\n",
       "      <td>CULEX RESTUANS</td>\n",
       "      <td>NaN</td>\n",
       "      <td>NaN</td>\n",
       "    </tr>\n",
       "  </tbody>\n",
       "</table>\n",
       "</div>"
      ],
      "text/plain": [
       "       Year  Week          Address Block  Block  Trap Trap type  \\\n",
       "15495  2018    34  100XX W OHARE AIRPORT    100  T912    GRAVID   \n",
       "15504  2011    32  100XX W OHARE AIRPORT    100  T916    GRAVID   \n",
       "15520  2010    33          100XX W OHARE    100  T903    GRAVID   \n",
       "15523  2016    34  100XX W OHARE AIRPORT    100  T911    GRAVID   \n",
       "15528  2017    34  100XX W OHARE AIRPORT    100  T900    GRAVID   \n",
       "\n",
       "                     Date  Mosquito number Mosquito ID WNV Present  \\\n",
       "15495 2018-08-23 00:08:00                3         Pip    positive   \n",
       "15504 2011-08-12 00:08:00               11         Pip    positive   \n",
       "15520 2010-08-20 00:08:00               27         Res    positive   \n",
       "15523 2016-08-25 00:08:00                8         Res    positive   \n",
       "15528 2017-08-24 00:08:00                2         Res    positive   \n",
       "\n",
       "              Species  Lat  Lon  \n",
       "15495   CULEX PIPIENS  NaN  NaN  \n",
       "15504   CULEX PIPIENS  NaN  NaN  \n",
       "15520  CULEX RESTUANS  NaN  NaN  \n",
       "15523  CULEX RESTUANS  NaN  NaN  \n",
       "15528  CULEX RESTUANS  NaN  NaN  "
      ]
     },
     "execution_count": 32,
     "metadata": {},
     "output_type": "execute_result"
    }
   ],
   "source": [
    "# duplicate_rows = df[df.duplicated()]\n",
    "# duplicate_rows.head()\n",
    "# remove duplicates"
   ]
  }
 ],
 "metadata": {
  "kernelspec": {
   "display_name": "Python 3.8.5 ('base')",
   "language": "python",
   "name": "python3"
  },
  "language_info": {
   "codemirror_mode": {
    "name": "ipython",
    "version": 3
   },
   "file_extension": ".py",
   "mimetype": "text/x-python",
   "name": "python",
   "nbconvert_exporter": "python",
   "pygments_lexer": "ipython3",
   "version": "3.8.5"
  },
  "orig_nbformat": 4,
  "vscode": {
   "interpreter": {
    "hash": "ad2bdc8ecc057115af97d19610ffacc2b4e99fae6737bb82f5d7fb13d2f2c186"
   }
  }
 },
 "nbformat": 4,
 "nbformat_minor": 2
}
