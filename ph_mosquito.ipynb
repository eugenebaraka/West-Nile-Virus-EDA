{
 "cells": [
  {
   "cell_type": "markdown",
   "metadata": {},
   "source": [
    "Exploratory Data Analysis, EDA in short, is the first step taken during data analysis and modeling to better understand data and the relationship between the variables. The process also helps us clean the data; for example, most machine learning algorith cannot handle missing values, so we need to deal with them in the EDA, also we need to make sure all variables are in the right formats. In this notebook I perform EDA on the Western Nile Virus (WNV) dataset found on Kaggle (insert link). You can read more about the WNV here (insert link)"
   ]
  },
  {
   "cell_type": "code",
   "execution_count": 49,
   "metadata": {},
   "outputs": [],
   "source": [
    "# Importing necessary libraries\n",
    "import pandas as pd\n",
    "import os\n",
    "import numpy as np\n",
    "import matplotlib.pyplot as plt\n",
    "import seaborn as sns\n"
   ]
  },
  {
   "cell_type": "code",
   "execution_count": 39,
   "metadata": {},
   "outputs": [
    {
     "data": {
      "text/html": [
       "<div>\n",
       "<style scoped>\n",
       "    .dataframe tbody tr th:only-of-type {\n",
       "        vertical-align: middle;\n",
       "    }\n",
       "\n",
       "    .dataframe tbody tr th {\n",
       "        vertical-align: top;\n",
       "    }\n",
       "\n",
       "    .dataframe thead th {\n",
       "        text-align: right;\n",
       "    }\n",
       "</style>\n",
       "<table border=\"1\" class=\"dataframe\">\n",
       "  <thead>\n",
       "    <tr style=\"text-align: right;\">\n",
       "      <th></th>\n",
       "      <th>Year</th>\n",
       "      <th>Week</th>\n",
       "      <th>Address Block</th>\n",
       "      <th>Block</th>\n",
       "      <th>Trap</th>\n",
       "      <th>Trap type</th>\n",
       "      <th>Date</th>\n",
       "      <th>Mosquito number</th>\n",
       "      <th>Mosquito ID</th>\n",
       "      <th>WNV Present</th>\n",
       "      <th>Species</th>\n",
       "      <th>Lat</th>\n",
       "      <th>Lon</th>\n",
       "    </tr>\n",
       "  </thead>\n",
       "  <tbody>\n",
       "    <tr>\n",
       "      <th>0</th>\n",
       "      <td>2019</td>\n",
       "      <td>39</td>\n",
       "      <td>100XX W OHARE AIRPORT</td>\n",
       "      <td>100</td>\n",
       "      <td>T910</td>\n",
       "      <td>GRAVID</td>\n",
       "      <td>2019-09-26 00:09:00</td>\n",
       "      <td>2</td>\n",
       "      <td>Res</td>\n",
       "      <td>negative</td>\n",
       "      <td>CULEX RESTUANS</td>\n",
       "      <td>NaN</td>\n",
       "      <td>NaN</td>\n",
       "    </tr>\n",
       "    <tr>\n",
       "      <th>1</th>\n",
       "      <td>2019</td>\n",
       "      <td>39</td>\n",
       "      <td>52XX S KOLMAR AVE</td>\n",
       "      <td>52</td>\n",
       "      <td>T114</td>\n",
       "      <td>GRAVID</td>\n",
       "      <td>2019-09-26 00:09:00</td>\n",
       "      <td>1</td>\n",
       "      <td>Res</td>\n",
       "      <td>negative</td>\n",
       "      <td>CULEX RESTUANS</td>\n",
       "      <td>41.798211</td>\n",
       "      <td>-87.736925</td>\n",
       "    </tr>\n",
       "    <tr>\n",
       "      <th>2</th>\n",
       "      <td>2019</td>\n",
       "      <td>39</td>\n",
       "      <td>58XX N WESTERN AVE</td>\n",
       "      <td>58</td>\n",
       "      <td>T028</td>\n",
       "      <td>GRAVID</td>\n",
       "      <td>2019-09-26 00:09:00</td>\n",
       "      <td>2</td>\n",
       "      <td>Res</td>\n",
       "      <td>negative</td>\n",
       "      <td>CULEX RESTUANS</td>\n",
       "      <td>41.987245</td>\n",
       "      <td>-87.689417</td>\n",
       "    </tr>\n",
       "    <tr>\n",
       "      <th>3</th>\n",
       "      <td>2019</td>\n",
       "      <td>39</td>\n",
       "      <td>39XX N SPRINGFIELD AVE</td>\n",
       "      <td>39</td>\n",
       "      <td>T228</td>\n",
       "      <td>GRAVID</td>\n",
       "      <td>2019-09-26 00:09:00</td>\n",
       "      <td>1</td>\n",
       "      <td>Res</td>\n",
       "      <td>negative</td>\n",
       "      <td>CULEX RESTUANS</td>\n",
       "      <td>41.953664</td>\n",
       "      <td>-87.724987</td>\n",
       "    </tr>\n",
       "    <tr>\n",
       "      <th>4</th>\n",
       "      <td>2019</td>\n",
       "      <td>39</td>\n",
       "      <td>131XX S BRANDON AVE</td>\n",
       "      <td>131</td>\n",
       "      <td>T209</td>\n",
       "      <td>GRAVID</td>\n",
       "      <td>2019-09-26 00:09:00</td>\n",
       "      <td>9</td>\n",
       "      <td>Res</td>\n",
       "      <td>negative</td>\n",
       "      <td>CULEX RESTUANS</td>\n",
       "      <td>41.657069</td>\n",
       "      <td>-87.546049</td>\n",
       "    </tr>\n",
       "    <tr>\n",
       "      <th>5</th>\n",
       "      <td>2019</td>\n",
       "      <td>39</td>\n",
       "      <td>21XX N CANNON DR</td>\n",
       "      <td>21</td>\n",
       "      <td>T054C</td>\n",
       "      <td>GRAVID</td>\n",
       "      <td>2019-09-26 00:09:00</td>\n",
       "      <td>2</td>\n",
       "      <td>Res</td>\n",
       "      <td>negative</td>\n",
       "      <td>CULEX RESTUANS</td>\n",
       "      <td>41.921777</td>\n",
       "      <td>-87.632140</td>\n",
       "    </tr>\n",
       "    <tr>\n",
       "      <th>6</th>\n",
       "      <td>2019</td>\n",
       "      <td>39</td>\n",
       "      <td>11XX W ROOSEVELT RD</td>\n",
       "      <td>11</td>\n",
       "      <td>T048</td>\n",
       "      <td>GRAVID</td>\n",
       "      <td>2019-09-26 00:09:00</td>\n",
       "      <td>3</td>\n",
       "      <td>Res</td>\n",
       "      <td>negative</td>\n",
       "      <td>CULEX RESTUANS</td>\n",
       "      <td>41.866915</td>\n",
       "      <td>-87.654919</td>\n",
       "    </tr>\n",
       "  </tbody>\n",
       "</table>\n",
       "</div>"
      ],
      "text/plain": [
       "   Year  Week           Address Block  Block   Trap Trap type  \\\n",
       "0  2019    39   100XX W OHARE AIRPORT    100   T910    GRAVID   \n",
       "1  2019    39       52XX S KOLMAR AVE     52   T114    GRAVID   \n",
       "2  2019    39      58XX N WESTERN AVE     58   T028    GRAVID   \n",
       "3  2019    39  39XX N SPRINGFIELD AVE     39   T228    GRAVID   \n",
       "4  2019    39     131XX S BRANDON AVE    131   T209    GRAVID   \n",
       "5  2019    39        21XX N CANNON DR     21  T054C    GRAVID   \n",
       "6  2019    39     11XX W ROOSEVELT RD     11   T048    GRAVID   \n",
       "\n",
       "                  Date  Mosquito number Mosquito ID WNV Present  \\\n",
       "0  2019-09-26 00:09:00                2         Res    negative   \n",
       "1  2019-09-26 00:09:00                1         Res    negative   \n",
       "2  2019-09-26 00:09:00                2         Res    negative   \n",
       "3  2019-09-26 00:09:00                1         Res    negative   \n",
       "4  2019-09-26 00:09:00                9         Res    negative   \n",
       "5  2019-09-26 00:09:00                2         Res    negative   \n",
       "6  2019-09-26 00:09:00                3         Res    negative   \n",
       "\n",
       "          Species        Lat        Lon  \n",
       "0  CULEX RESTUANS        NaN        NaN  \n",
       "1  CULEX RESTUANS  41.798211 -87.736925  \n",
       "2  CULEX RESTUANS  41.987245 -87.689417  \n",
       "3  CULEX RESTUANS  41.953664 -87.724987  \n",
       "4  CULEX RESTUANS  41.657069 -87.546049  \n",
       "5  CULEX RESTUANS  41.921777 -87.632140  \n",
       "6  CULEX RESTUANS  41.866915 -87.654919  "
      ]
     },
     "execution_count": 39,
     "metadata": {},
     "output_type": "execute_result"
    }
   ],
   "source": [
    "# Load the data\n",
    "datapath = os.path.join(\"data\", 'mosquito_data.csv')\n",
    "df = pd.read_csv(datapath)\n",
    "df.head(7)"
   ]
  },
  {
   "cell_type": "code",
   "execution_count": 40,
   "metadata": {},
   "outputs": [
    {
     "name": "stdout",
     "output_type": "stream",
     "text": [
      "The data has 18495 rows and 13 columns.\n",
      "<class 'pandas.core.frame.DataFrame'>\n",
      "RangeIndex: 18495 entries, 0 to 18494\n",
      "Data columns (total 13 columns):\n",
      " #   Column           Non-Null Count  Dtype  \n",
      "---  ------           --------------  -----  \n",
      " 0   Year             18495 non-null  int64  \n",
      " 1   Week             18495 non-null  int64  \n",
      " 2   Address Block    18495 non-null  object \n",
      " 3   Block            18495 non-null  int64  \n",
      " 4   Trap             18495 non-null  object \n",
      " 5   Trap type        18495 non-null  object \n",
      " 6   Date             18495 non-null  object \n",
      " 7   Mosquito number  18495 non-null  int64  \n",
      " 8   Mosquito ID      18495 non-null  object \n",
      " 9   WNV Present      18495 non-null  object \n",
      " 10  Species          18495 non-null  object \n",
      " 11  Lat              15571 non-null  float64\n",
      " 12  Lon              15571 non-null  float64\n",
      "dtypes: float64(2), int64(4), object(7)\n",
      "memory usage: 1.8+ MB\n"
     ]
    }
   ],
   "source": [
    "# Inspecting the dataframe\n",
    "print(f\"The data has {df.shape[0]} rows and {df.shape[1]} columns.\")\n",
    "\n",
    "df.info()\n",
    "\n"
   ]
  },
  {
   "cell_type": "markdown",
   "metadata": {},
   "source": [
    "It looks like all variables are in the right format, except Date which should be a datetime object, so we will need to convert that. Also, the only variables with missing values are Latitude and Longitude, which can filled in by a quick google search!"
   ]
  },
  {
   "cell_type": "code",
   "execution_count": 41,
   "metadata": {},
   "outputs": [
    {
     "data": {
      "text/plain": [
       "array(['100XX W OHARE AIRPORT', '4XX W 127TH', '100XX W OHARE',\n",
       "       '81XX S ASHLAND', '79XX S CHICAGO', '98XX S AVENUE G',\n",
       "       '65XX N OAK PARK AVE', '115XX S AVENUE L', '30XX S HOYNE',\n",
       "       '43XX N ASHLAND'], dtype=object)"
      ]
     },
     "execution_count": 41,
     "metadata": {},
     "output_type": "execute_result"
    }
   ],
   "source": [
    "df['Date'] = pd.to_datetime(df['Date']) # Converting the date to datetime format\n",
    "\n",
    "df[df['Lat'].isna() & df['Lon'].isna()]['Address Block'].unique() # Checking addresses with missing lat and lon\n"
   ]
  },
  {
   "cell_type": "code",
   "execution_count": 42,
   "metadata": {},
   "outputs": [],
   "source": [
    "# Filling in the missing lat and lon values according to the address\n",
    "\n",
    "df.loc[df['Address Block'] == \"100XX W OHARE AIRPORT\", ['Lat', 'Lon']] = [41.982151, -87.897568]\n",
    "df.loc[df['Address Block'] == \"4XX W 127TH\", ['Lat', 'Lon']] = [38.897469, -94.595230]\n",
    "df.loc[df['Address Block'] == \"100XX W OHARE\", ['Lat', 'Lon']] = [40.177132, -85.477737]\n",
    "df.loc[df['Address Block'] == \"81XX S ASHLAND\", ['Lat', 'Lon']] = [33.413078, -111.816238]\n",
    "df.loc[df['Address Block'] == \"79XX S CHICAGO\", ['Lat', 'Lon']] = [42.094158, -79.266510]\n",
    "df.loc[df['Address Block'] == \"98XX S AVENUE G\", ['Lat', 'Lon']] = [41.709293, -87.5315843]\n",
    "df.loc[df['Address Block'] == \"65XX N OAK PARK AVE\", ['Lat', 'Lon']] = [42.015568, -87.794115]\n",
    "df.loc[df['Address Block'] == \"115XX S AVENUE L\", ['Lat', 'Lon']] = [41.652009, -87.536241]\n",
    "df.loc[df['Address Block'] == \"30XX S HOYNE\", ['Lat', 'Lon']] = [41.854498, -87.676803]\n",
    "df.loc[df['Address Block'] == \"43XX N ASHLAND\", ['Lat', 'Lon']] = [40.861585, -82.321826]\n",
    "# Note that this wouldn't be ideal if we had more missing addresses with missing Lat and Lon. This worked because we only only 10 were missing"
   ]
  },
  {
   "cell_type": "markdown",
   "metadata": {},
   "source": [
    "Let's take a quick look on the data to see if everything is fixed now!"
   ]
  },
  {
   "cell_type": "code",
   "execution_count": 43,
   "metadata": {},
   "outputs": [
    {
     "name": "stdout",
     "output_type": "stream",
     "text": [
      "<class 'pandas.core.frame.DataFrame'>\n",
      "RangeIndex: 18495 entries, 0 to 18494\n",
      "Data columns (total 13 columns):\n",
      " #   Column           Non-Null Count  Dtype         \n",
      "---  ------           --------------  -----         \n",
      " 0   Year             18495 non-null  int64         \n",
      " 1   Week             18495 non-null  int64         \n",
      " 2   Address Block    18495 non-null  object        \n",
      " 3   Block            18495 non-null  int64         \n",
      " 4   Trap             18495 non-null  object        \n",
      " 5   Trap type        18495 non-null  object        \n",
      " 6   Date             18495 non-null  datetime64[ns]\n",
      " 7   Mosquito number  18495 non-null  int64         \n",
      " 8   Mosquito ID      18495 non-null  object        \n",
      " 9   WNV Present      18495 non-null  object        \n",
      " 10  Species          18495 non-null  object        \n",
      " 11  Lat              18495 non-null  float64       \n",
      " 12  Lon              18495 non-null  float64       \n",
      "dtypes: datetime64[ns](1), float64(2), int64(4), object(6)\n",
      "memory usage: 1.8+ MB\n"
     ]
    }
   ],
   "source": [
    "df.info()"
   ]
  },
  {
   "cell_type": "markdown",
   "metadata": {},
   "source": [
    "Perfect the Date variable is now in the right format and looks like all the Lat and Lon are now all available. "
   ]
  },
  {
   "cell_type": "code",
   "execution_count": 45,
   "metadata": {},
   "outputs": [
    {
     "name": "stdout",
     "output_type": "stream",
     "text": [
      "There are 658 duplicates in the data.\n",
      "The are now 0 duplicates in the data.\n"
     ]
    }
   ],
   "source": [
    "# checking for duplicates\n",
    "is_duplicate = df.duplicated(keep = 'first')\n",
    "print(f\"There are {is_duplicate.sum()} duplicates in the data.\")\n",
    "# removing all duplicated rows\n",
    "mosquito_df = df[~is_duplicate]\n",
    "mosquito_df.duplicated(keep = 'first').sum()\n",
    "print(\"The are now {} duplicates in the data.\".format(mosquito_df.duplicated(keep = 'first').sum()))\n"
   ]
  },
  {
   "cell_type": "markdown",
   "metadata": {},
   "source": [
    "Now let's take another look at the data"
   ]
  },
  {
   "cell_type": "code",
   "execution_count": 46,
   "metadata": {},
   "outputs": [
    {
     "name": "stdout",
     "output_type": "stream",
     "text": [
      "<class 'pandas.core.frame.DataFrame'>\n",
      "Int64Index: 17837 entries, 0 to 18493\n",
      "Data columns (total 13 columns):\n",
      " #   Column           Non-Null Count  Dtype         \n",
      "---  ------           --------------  -----         \n",
      " 0   Year             17837 non-null  int64         \n",
      " 1   Week             17837 non-null  int64         \n",
      " 2   Address Block    17837 non-null  object        \n",
      " 3   Block            17837 non-null  int64         \n",
      " 4   Trap             17837 non-null  object        \n",
      " 5   Trap type        17837 non-null  object        \n",
      " 6   Date             17837 non-null  datetime64[ns]\n",
      " 7   Mosquito number  17837 non-null  int64         \n",
      " 8   Mosquito ID      17837 non-null  object        \n",
      " 9   WNV Present      17837 non-null  object        \n",
      " 10  Species          17837 non-null  object        \n",
      " 11  Lat              17837 non-null  float64       \n",
      " 12  Lon              17837 non-null  float64       \n",
      "dtypes: datetime64[ns](1), float64(2), int64(4), object(6)\n",
      "memory usage: 1.9+ MB\n"
     ]
    }
   ],
   "source": [
    "mosquito_df.info()"
   ]
  },
  {
   "cell_type": "markdown",
   "metadata": {},
   "source": [
    "Perfect. Looks like our data is ready for basic exploration. All variables are in their correct formats, no null values, and we know that all duplicates have been appropriately dealth with. Now let's start with exploring numeric variables!"
   ]
  },
  {
   "cell_type": "code",
   "execution_count": 47,
   "metadata": {},
   "outputs": [
    {
     "data": {
      "text/plain": [
       "Index(['Year', 'Week', 'Block', 'Mosquito number', 'Lat', 'Lon'], dtype='object')"
      ]
     },
     "execution_count": 47,
     "metadata": {},
     "output_type": "execute_result"
    }
   ],
   "source": [
    "numeric = mosquito_df.select_dtypes(include = ['int64', 'float64']).columns\n",
    "numeric"
   ]
  },
  {
   "cell_type": "code",
   "execution_count": 48,
   "metadata": {},
   "outputs": [
    {
     "data": {
      "text/html": [
       "<div>\n",
       "<style scoped>\n",
       "    .dataframe tbody tr th:only-of-type {\n",
       "        vertical-align: middle;\n",
       "    }\n",
       "\n",
       "    .dataframe tbody tr th {\n",
       "        vertical-align: top;\n",
       "    }\n",
       "\n",
       "    .dataframe thead th {\n",
       "        text-align: right;\n",
       "    }\n",
       "</style>\n",
       "<table border=\"1\" class=\"dataframe\">\n",
       "  <thead>\n",
       "    <tr style=\"text-align: right;\">\n",
       "      <th></th>\n",
       "      <th>Year</th>\n",
       "      <th>Week</th>\n",
       "      <th>Block</th>\n",
       "      <th>Mosquito number</th>\n",
       "      <th>Lat</th>\n",
       "      <th>Lon</th>\n",
       "    </tr>\n",
       "  </thead>\n",
       "  <tbody>\n",
       "    <tr>\n",
       "      <th>count</th>\n",
       "      <td>17837.000000</td>\n",
       "      <td>17837.000000</td>\n",
       "      <td>17837.000000</td>\n",
       "      <td>17837.000000</td>\n",
       "      <td>17837.000000</td>\n",
       "      <td>17837.000000</td>\n",
       "    </tr>\n",
       "    <tr>\n",
       "      <th>mean</th>\n",
       "      <td>2012.850591</td>\n",
       "      <td>30.979088</td>\n",
       "      <td>52.864383</td>\n",
       "      <td>10.458822</td>\n",
       "      <td>41.737986</td>\n",
       "      <td>-87.882636</td>\n",
       "    </tr>\n",
       "    <tr>\n",
       "      <th>std</th>\n",
       "      <td>3.733999</td>\n",
       "      <td>4.377505</td>\n",
       "      <td>36.318698</td>\n",
       "      <td>13.182843</td>\n",
       "      <td>0.787922</td>\n",
       "      <td>2.243511</td>\n",
       "    </tr>\n",
       "    <tr>\n",
       "      <th>min</th>\n",
       "      <td>2007.000000</td>\n",
       "      <td>20.000000</td>\n",
       "      <td>1.000000</td>\n",
       "      <td>1.000000</td>\n",
       "      <td>33.413078</td>\n",
       "      <td>-111.816238</td>\n",
       "    </tr>\n",
       "    <tr>\n",
       "      <th>25%</th>\n",
       "      <td>2010.000000</td>\n",
       "      <td>28.000000</td>\n",
       "      <td>22.000000</td>\n",
       "      <td>2.000000</td>\n",
       "      <td>41.733188</td>\n",
       "      <td>-87.778234</td>\n",
       "    </tr>\n",
       "    <tr>\n",
       "      <th>50%</th>\n",
       "      <td>2013.000000</td>\n",
       "      <td>31.000000</td>\n",
       "      <td>50.000000</td>\n",
       "      <td>4.000000</td>\n",
       "      <td>41.867599</td>\n",
       "      <td>-87.702181</td>\n",
       "    </tr>\n",
       "    <tr>\n",
       "      <th>75%</th>\n",
       "      <td>2016.000000</td>\n",
       "      <td>34.000000</td>\n",
       "      <td>81.000000</td>\n",
       "      <td>13.000000</td>\n",
       "      <td>41.962015</td>\n",
       "      <td>-87.643076</td>\n",
       "    </tr>\n",
       "    <tr>\n",
       "      <th>max</th>\n",
       "      <td>2019.000000</td>\n",
       "      <td>40.000000</td>\n",
       "      <td>132.000000</td>\n",
       "      <td>50.000000</td>\n",
       "      <td>42.094158</td>\n",
       "      <td>-79.266510</td>\n",
       "    </tr>\n",
       "  </tbody>\n",
       "</table>\n",
       "</div>"
      ],
      "text/plain": [
       "               Year          Week         Block  Mosquito number  \\\n",
       "count  17837.000000  17837.000000  17837.000000     17837.000000   \n",
       "mean    2012.850591     30.979088     52.864383        10.458822   \n",
       "std        3.733999      4.377505     36.318698        13.182843   \n",
       "min     2007.000000     20.000000      1.000000         1.000000   \n",
       "25%     2010.000000     28.000000     22.000000         2.000000   \n",
       "50%     2013.000000     31.000000     50.000000         4.000000   \n",
       "75%     2016.000000     34.000000     81.000000        13.000000   \n",
       "max     2019.000000     40.000000    132.000000        50.000000   \n",
       "\n",
       "                Lat           Lon  \n",
       "count  17837.000000  17837.000000  \n",
       "mean      41.737986    -87.882636  \n",
       "std        0.787922      2.243511  \n",
       "min       33.413078   -111.816238  \n",
       "25%       41.733188    -87.778234  \n",
       "50%       41.867599    -87.702181  \n",
       "75%       41.962015    -87.643076  \n",
       "max       42.094158    -79.266510  "
      ]
     },
     "execution_count": 48,
     "metadata": {},
     "output_type": "execute_result"
    }
   ],
   "source": [
    "mosquito_df[numeric].describe()"
   ]
  },
  {
   "cell_type": "markdown",
   "metadata": {},
   "source": [
    "From the above output, here are the key observations:\n",
    "- The data spans from 2007 to 2019\n",
    "- The mosquito data was mostly collected between week 20 and week 40 of the year. That's from mid-May to October!\n",
    "- The maximum number of mosquitoes per trap is 50, the minimum being 1 and the average mosquitoes per trap is 10.46 mosquitoes\n",
    "- The mean number of mosquitoes is larger than median,meaning mosquito number is right skewed\n",
    "\n",
    "We can also vizulalize this as below!"
   ]
  },
  {
   "cell_type": "code",
   "execution_count": 57,
   "metadata": {},
   "outputs": [
    {
     "data": {
      "image/png": "[encoded data removed]",
      "text/plain": [
       "<Figure size 1080x1080 with 6 Axes>"
      ]
     },
     "metadata": {
      "needs_background": "light"
     },
     "output_type": "display_data"
    }
   ],
   "source": [
    "plt.subplots(2, 3, figsize = (15, 15))\n",
    "counter = 1\n",
    "for col in list(numeric):\n",
    "    plt.subplot(3, 3, counter)\n",
    "    sns.histplot(mosquito_df[col])\n",
    "    plt.title(f\"Distribution of {col}\")\n",
    "    plt.ylabel(f\"Frequency of {col}\")\n",
    "    counter += 1\n"
   ]
  },
  {
   "cell_type": "markdown",
   "metadata": {},
   "source": [
    "Additional observations:\n",
    "- Most mosquito samples in 2007 and 2014\n",
    "- Most samples collected between week 30 and 35\n",
    "- Blocks 1-4 and 98-100 had the most samples overall\n",
    "\n",
    "Since the data has the actual latitude and longitude, it would be nice to visualize the distribution of the mosquitoes across the city...."
   ]
  },
  {
   "cell_type": "code",
   "execution_count": 63,
   "metadata": {},
   "outputs": [
    {
     "data": {
      "image/png": "[encoded data removed]",
      "text/plain": [
       "<Figure size 432x288 with 1 Axes>"
      ]
     },
     "metadata": {
      "needs_background": "light"
     },
     "output_type": "display_data"
    }
   ],
   "source": [
    "mosquito_df.plot(kind = 'scatter', x = 'Lat', y = 'Lon', alpha = 0.1)\n",
    "plt.show()"
   ]
  },
  {
   "cell_type": "markdown",
   "metadata": {},
   "source": [
    "The data was mostly collected in Lat above 35 and Lon above -100, except for a few data points which are below 34 and -110. "
   ]
  },
  {
   "cell_type": "markdown",
   "metadata": {},
   "source": [
    "Let's quickly take a look at the distribution of categorical variables in the data. "
   ]
  },
  {
   "cell_type": "code",
   "execution_count": 78,
   "metadata": {},
   "outputs": [
    {
     "data": {
      "image/png": "[encoded data removed]",
      "text/plain": [
       "<Figure size 1080x1080 with 6 Axes>"
      ]
     },
     "metadata": {
      "needs_background": "light"
     },
     "output_type": "display_data"
    }
   ],
   "source": [
    "categorical = mosquito_df.select_dtypes(include = ['object']).columns\n",
    "plt.subplots(2, 3, figsize = (15, 15))\n",
    "counter = 1\n",
    "for col in list(categorical):\n",
    "    plt.subplot(2, 3, counter)\n",
    "    b= sns.countplot(x = col, data = mosquito_df)\n",
    "    b.set_title(f\"Distribution of {col}\")\n",
    "    b.set_xlabel(f\"{col}\")\n",
    "    b.set_ylabel(f\"Frequency of {col}\")\n",
    "    b.tick_params(labelsize = 7)\n",
    "    counter += 1"
   ]
  },
  {
   "cell_type": "markdown",
   "metadata": {},
   "source": [
    "From the visualization above we see that:\n",
    "- Both address block and trap variables have too many categories\n",
    "- The most common trap type is GRAVID\n",
    "- The most common mosquito, as per Mosquito ID, is Res\n",
    "- Most moquitoes do not have West Nile Virus present\n",
    "- The most common species captured is CULEX RESTUANS"
   ]
  },
  {
   "cell_type": "code",
   "execution_count": null,
   "metadata": {},
   "outputs": [],
   "source": []
  }
 ],
 "metadata": {
  "kernelspec": {
   "display_name": "Python 3.8.5 ('base')",
   "language": "python",
   "name": "python3"
  },
  "language_info": {
   "codemirror_mode": {
    "name": "ipython",
    "version": 3
   },
   "file_extension": ".py",
   "mimetype": "text/x-python",
   "name": "python",
   "nbconvert_exporter": "python",
   "pygments_lexer": "ipython3",
   "version": "3.8.5"
  },
  "orig_nbformat": 4,
  "vscode": {
   "interpreter": {
    "hash": "ad2bdc8ecc057115af97d19610ffacc2b4e99fae6737bb82f5d7fb13d2f2c186"
   }
  }
 },
 "nbformat": 4,
 "nbformat_minor": 2
}
